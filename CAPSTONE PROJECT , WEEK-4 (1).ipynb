{
    "nbformat_minor": 1, 
    "cells": [
        {
            "source": "# WEEK-4 (Part-1)", 
            "cell_type": "markdown", 
            "metadata": {
                "collapsed": true
            }
        }, 
        {
            "source": "## Problem (/Idea of choice):", 
            "cell_type": "markdown", 
            "metadata": {}
        }, 
        {
            "source": "Toronto is one of the most attractive places for tourists to visit. There are so many people who come to visit there every year, but there are so many who can't understand where to go and about their perspectives. \n\nWe can build a recommender system to recommend places to the tourists, so that it can be easy for them to visit Toronto.", 
            "cell_type": "markdown", 
            "metadata": {}
        }, 
        {
            "source": "## Concerned audience", 
            "cell_type": "markdown", 
            "metadata": {}
        }, 
        {
            "source": "Tourists of Toronto as well as Tourism Agencies", 
            "cell_type": "markdown", 
            "metadata": {}
        }, 
        {
            "source": "## Description", 
            "cell_type": "markdown", 
            "metadata": {}
        }, 
        {
            "source": "Tourists normally want to explore variety of places when they come to arrive in unexplored region, but tourists also have some kind of inclination towards certain venues over the other venues. I want to build a recommended system on base of tourists' preferences. This is builded on an observation that tourists always try to explore places which are nearby first.  If one would arrive in Toronto,he/she will start exploring a particular neighbourhood, where they have stayed and then will start exploring another places.\n\nBy keeping in mind this particular thing, I have build this system, which can be helpful to tourism agencies as well as to tourists to make their guide-book for exploring places.", 
            "cell_type": "markdown", 
            "metadata": {}
        }, 
        {
            "source": "##### Note: Practical Description for this is in part-2 of week-4", 
            "cell_type": "markdown", 
            "metadata": {}
        }
    ], 
    "metadata": {
        "kernelspec": {
            "display_name": "Python 3.5", 
            "name": "python3", 
            "language": "python"
        }, 
        "language_info": {
            "mimetype": "text/x-python", 
            "nbconvert_exporter": "python", 
            "version": "3.5.5", 
            "name": "python", 
            "pygments_lexer": "ipython3", 
            "file_extension": ".py", 
            "codemirror_mode": {
                "version": 3, 
                "name": "ipython"
            }
        }
    }, 
    "nbformat": 4
}