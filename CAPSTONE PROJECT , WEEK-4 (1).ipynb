{
    "nbformat_minor": 1, 
    "cells": [
        {
            "source": "# which areas in Gujarat (India) needs to open blood banks?", 
            "cell_type": "markdown", 
            "metadata": {
                "collapsed": true
            }
        }, 
        {
            "source": "###  This report is prepared on request of a social worker, who is working for public health and hospitals, to make data analysis to find the best places in Gujarat state where people need blood banks. ", 
            "cell_type": "markdown", 
            "metadata": {}
        }, 
        {
            "source": "###### For this purpose, I have prepared report to make insignts on two main factors:\n\n(1) Region of Gujarat suffering with high death ratio due to scarcity of blood\n(2) If that region has enough number of blood banks or not", 
            "cell_type": "markdown", 
            "metadata": {}
        }, 
        {
            "source": "###### To make sure that we are going right in our path, we keep in mind two things:\n\n(1) The GDP of region should be low\n(2) The area where we choose to open a blood bank, should be remote from another blood banks (distance of at least 80 km)", 
            "cell_type": "markdown", 
            "metadata": {}
        }, 
        {
            "source": "For this, I analyze the data from Foursquare API to locate different hospitals of Gujarat (India). After that we find some locations where there were not any hospials and also take help of Government reports to know socio-economic conditions of differebt regions of Gujarat State. Then we use clustering approach to find out the specific needful areas for blood bank. Then we analyzed geographical distribution of existing hospitals, near by blood banks and other remoted blood banks to know about the area suffering with scarcity of blood banks. Then we finalize 5 areas which need to open blood banks as soon as possible.", 
            "cell_type": "markdown", 
            "metadata": {}
        }
    ], 
    "metadata": {
        "kernelspec": {
            "display_name": "Python 3.5", 
            "name": "python3", 
            "language": "python"
        }, 
        "language_info": {
            "mimetype": "text/x-python", 
            "nbconvert_exporter": "python", 
            "version": "3.5.5", 
            "name": "python", 
            "pygments_lexer": "ipython3", 
            "file_extension": ".py", 
            "codemirror_mode": {
                "version": 3, 
                "name": "ipython"
            }
        }
    }, 
    "nbformat": 4
}