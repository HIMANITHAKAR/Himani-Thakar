{
    "nbformat_minor": 1, 
    "cells": [
        {
            "source": "# TASK-1: Write some markdown to explain that this notebook will be mainly used for the capstone project\n", 
            "cell_type": "markdown", 
            "metadata": {
                "collapsed": true
            }
        }, 
        {
            "source": "This is first notebook as per given instructions for the capstone project for IBM Data Science Professional Certificate. The whole journey for this professional certificate was really wonderful. I learnt Data Science Methodology, Data Mining, Data Analysis, Data Visualization, Machine Learning and related tools theoretically as well as practically during this course. ", 
            "cell_type": "markdown", 
            "metadata": {}
        }, 
        {
            "source": "# TASK-2: Import the pandas library as pd.", 
            "cell_type": "markdown", 
            "metadata": {}
        }, 
        {
            "source": "import pandas as pd\ndf_dsModel = pd.read_csv('http://cocl.us/datascience_survey_data',index_col=0)\ndf_dsModel", 
            "cell_type": "code", 
            "metadata": {}, 
            "outputs": [
                {
                    "output_type": "execute_result", 
                    "data": {
                        "text/plain": "                            Very interested  Somewhat interested  \\\nBig Data (Spark / Hadoop)              1332                  729   \nData Analysis / Statistics             1688                  444   \nData Journalism                         429                 1081   \nData Visualization                     1340                  734   \nDeep Learning                          1263                  770   \nMachine Learning                       1629                  477   \n\n                            Not interested  \nBig Data (Spark / Hadoop)              127  \nData Analysis / Statistics              60  \nData Journalism                        610  \nData Visualization                     102  \nDeep Learning                          136  \nMachine Learning                        74  ", 
                        "text/html": "<div>\n<style scoped>\n    .dataframe tbody tr th:only-of-type {\n        vertical-align: middle;\n    }\n\n    .dataframe tbody tr th {\n        vertical-align: top;\n    }\n\n    .dataframe thead th {\n        text-align: right;\n    }\n</style>\n<table border=\"1\" class=\"dataframe\">\n  <thead>\n    <tr style=\"text-align: right;\">\n      <th></th>\n      <th>Very interested</th>\n      <th>Somewhat interested</th>\n      <th>Not interested</th>\n    </tr>\n  </thead>\n  <tbody>\n    <tr>\n      <th>Big Data (Spark / Hadoop)</th>\n      <td>1332</td>\n      <td>729</td>\n      <td>127</td>\n    </tr>\n    <tr>\n      <th>Data Analysis / Statistics</th>\n      <td>1688</td>\n      <td>444</td>\n      <td>60</td>\n    </tr>\n    <tr>\n      <th>Data Journalism</th>\n      <td>429</td>\n      <td>1081</td>\n      <td>610</td>\n    </tr>\n    <tr>\n      <th>Data Visualization</th>\n      <td>1340</td>\n      <td>734</td>\n      <td>102</td>\n    </tr>\n    <tr>\n      <th>Deep Learning</th>\n      <td>1263</td>\n      <td>770</td>\n      <td>136</td>\n    </tr>\n    <tr>\n      <th>Machine Learning</th>\n      <td>1629</td>\n      <td>477</td>\n      <td>74</td>\n    </tr>\n  </tbody>\n</table>\n</div>"
                    }, 
                    "execution_count": 2, 
                    "metadata": {}
                }
            ], 
            "execution_count": 2
        }, 
        {
            "source": "# TASK-3: Import the Numpy library as np.", 
            "cell_type": "markdown", 
            "metadata": {}
        }, 
        {
            "source": "import numpy as np\na = np.array([[1,2],[3,4]])\nprint(a)", 
            "cell_type": "code", 
            "metadata": {}, 
            "outputs": [
                {
                    "output_type": "stream", 
                    "name": "stdout", 
                    "text": "[[1 2]\n [3 4]]\n"
                }
            ], 
            "execution_count": 16
        }, 
        {
            "source": "# TASK-4: Print the following the statement: Hello Capstone Project Course!", 
            "cell_type": "markdown", 
            "metadata": {}
        }, 
        {
            "source": "print ('Hello Capstone Project Course!')", 
            "cell_type": "code", 
            "metadata": {}, 
            "outputs": [
                {
                    "output_type": "stream", 
                    "name": "stdout", 
                    "text": "Hello Capstone Project Course!\n"
                }
            ], 
            "execution_count": 17
        }
    ], 
    "metadata": {
        "kernelspec": {
            "display_name": "Python 3.5", 
            "name": "python3", 
            "language": "python"
        }, 
        "language_info": {
            "mimetype": "text/x-python", 
            "nbconvert_exporter": "python", 
            "version": "3.5.5", 
            "name": "python", 
            "pygments_lexer": "ipython3", 
            "file_extension": ".py", 
            "codemirror_mode": {
                "version": 3, 
                "name": "ipython"
            }
        }
    }, 
    "nbformat": 4
}