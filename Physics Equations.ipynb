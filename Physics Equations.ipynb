{
    "nbformat_minor": 1, 
    "cells": [
        {
            "source": "# Some of the Equations of Physics", 
            "cell_type": "markdown", 
            "metadata": {
                "collapsed": true
            }
        }, 
        {
            "source": "## 1. Cross Product Formula ", 
            "cell_type": "markdown", 
            "metadata": {}
        }, 
        {
            "source": "\\begin{equation*}\n\\mathbf{V}_1 \\times \\mathbf{V}_2= \\begin{vmatrix}\n\\mathbf{i} & \\mathbf{j} & \\mathbf{k} \\\\\n\\frac{\\partial x}{\\partial u} & \\frac{\\partial y}{\\partial u} & 0 \\\\\n\\frac{\\partial x}{\\partial v} & \\frac{\\partial y}{\\partial v} & 0 \n\\end{vmatrix}\n\\end{equation*}", 
            "cell_type": "markdown", 
            "metadata": {}
        }, 
        {
            "source": "## 2. Maxwell's Equations", 
            "cell_type": "markdown", 
            "metadata": {}
        }, 
        {
            "source": "\\begin{align}\n\\nabla \\times \\vec{\\mathbf{B}} -\\, \\frac1c\\, \\frac{\\partial\\vec{\\mathbf{E}}} {\\partial t} & = \\frac{4\\pi}{c}\\vec{\\mathbf{j}} \\\\ \\nabla \\cdot \\vec{\\mathbf{E}} & = 4 \\pi \\rho\\\\\n\\nabla \\times \\vec{\\mathbf{E}} \\, =\\, \\frac1c\\, \\frac{\\partial{\\mathbf{B}}} {\\partial t} & = \\vec{\\mathbf{0}} \\\\\n\\nabla \\cdot \\vec{\\mathbf{B}} & = 0\n\\end{align}", 
            "cell_type": "markdown", 
            "metadata": {}
        }, 
        {
            "source": "## 3. Lorentz Equation", 
            "cell_type": "markdown", 
            "metadata": {}
        }, 
        {
            "source": "\\begin{align}\n\\dot{x} & = \\sigma(y-x) \\\\\n\\dot{y} & = \\rho x - y - z \\\\\n\\dot{z} & = -\\beta z = xy\n\\end{align}", 
            "cell_type": "markdown", 
            "metadata": {}
        }, 
        {
            "source": "## 4. An Identity of Ramanujan", 
            "cell_type": "markdown", 
            "metadata": {}
        }, 
        {
            "source": "\\begin{equation*}\n\\frac{1}{\\Bigl(\\sqrt{\\phi \\sqrt{5}}-\\phi\\Bigr) e^{\\frac25 \\pi}} = \n1+\\frac{e^{-2\\pi}} {1+\\frac{e^{-4\\pi}} {1+\\frac{e^{-6\\pi}}\n{1+ \\frac{e^{-8\\pi}} {1+ldots} } } }\n\\end{equation*}", 
            "cell_type": "markdown", 
            "metadata": {}
        }, 
        {
            "source": "## 5. Rogers- Ramanujan Identity", 
            "cell_type": "markdown", 
            "metadata": {}
        }, 
        {
            "source": "\\begin{equation*}\n1 + \\frac{q^2}{(1-q)}+\\frac{q^6}{(1-q)(1-q^2)}+\\cdots \n\\prod_{j=0}^{\\infty}\\frac{1}{1-q^{5j+2})(1-q^{5j+3})},\n\\quad\\quad \\text{for $|q|<1$}.\n\\end{equation*}", 
            "cell_type": "markdown", 
            "metadata": {}
        }
    ], 
    "metadata": {
        "kernelspec": {
            "display_name": "Python 3.5", 
            "name": "python3", 
            "language": "python"
        }, 
        "language_info": {
            "mimetype": "text/x-python", 
            "nbconvert_exporter": "python", 
            "version": "3.5.5", 
            "name": "python", 
            "pygments_lexer": "ipython3", 
            "file_extension": ".py", 
            "codemirror_mode": {
                "version": 3, 
                "name": "ipython"
            }
        }
    }, 
    "nbformat": 4
}