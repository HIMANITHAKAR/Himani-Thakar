{
    "nbformat_minor": 1, 
    "cells": [
        {
            "source": "# which areas in Gujarat (India) needs to open blood banks", 
            "cell_type": "markdown", 
            "metadata": {
                "collapsed": true
            }
        }, 
        {
            "source": "### STEP-1: Download and Explore dataset", 
            "cell_type": "markdown", 
            "metadata": {}
        }, 
        {
            "source": "* Explore the postal code data of different regions of gujarat state\n* Implement and pre-process the data frame as per requirement\n* Know socio-economic conditions of different regions from Government reports\n* Get the Grospatial co-ordinates for each place", 
            "cell_type": "markdown", 
            "metadata": {}
        }, 
        {
            "source": "### STEP-2: Explore neighboorhoods", 
            "cell_type": "markdown", 
            "metadata": {}
        }, 
        {
            "source": "* Create the map of Gujarat\n* Obtain the informations about hospitals from Forsquare API\n* Analyse the distribution\n* Create the map of specific areas", 
            "cell_type": "markdown", 
            "metadata": {}
        }, 
        {
            "source": "### STEP-3: Clustering the Neighborhoods", 
            "cell_type": "markdown", 
            "metadata": {}
        }, 
        {
            "source": "* Applied K-means clustering\n* Examine the clusters", 
            "cell_type": "markdown", 
            "metadata": {}
        }, 
        {
            "source": "### STEP-4: Decision Making", 
            "cell_type": "markdown", 
            "metadata": {}
        }, 
        {
            "source": "* Finalize 5 areas which require blood banks most \n* prepare report for the same, as report-making (Story-telling) is also one of the most required tool of a data scientist to convey his/her/their output to other people", 
            "cell_type": "markdown", 
            "metadata": {}
        }
    ], 
    "metadata": {
        "kernelspec": {
            "display_name": "Python 3.5", 
            "name": "python3", 
            "language": "python"
        }, 
        "language_info": {
            "mimetype": "text/x-python", 
            "nbconvert_exporter": "python", 
            "version": "3.5.5", 
            "name": "python", 
            "pygments_lexer": "ipython3", 
            "file_extension": ".py", 
            "codemirror_mode": {
                "version": 3, 
                "name": "ipython"
            }
        }
    }, 
    "nbformat": 4
}