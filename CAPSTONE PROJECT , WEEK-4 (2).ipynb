{
    "nbformat_minor": 1, 
    "cells": [
        {
            "source": "# WEEK-4 (Part-2)", 
            "cell_type": "markdown", 
            "metadata": {
                "collapsed": true
            }
        }, 
        {
            "source": "### Data Requirement", 
            "cell_type": "markdown", 
            "metadata": {}
        }, 
        {
            "source": "We will require data of all the neighbourhood in Toronto including longitude and latitude values of borough:\n\n\n* All the Neighbourhood with postal codes are available here https://en.wikipedia.org/wiki/List_of_postal_codes_of_Canada:_M\n* All the longitude and latitude values according to postal codes are available here http://cocl.us/Geospatial_data\n* Doing some data preprocessing we will get to required format", 
            "cell_type": "markdown", 
            "metadata": {}
        }, 
        {
            "source": "###### Explanation for Data:", 
            "cell_type": "markdown", 
            "metadata": {}
        }, 
        {
            "source": "The required data about different venues in different neighborhoods of that specific borough. In order to gain that information we will use Foursquare location data. Location data for each venue means basic and advanced information about that venue. As basic information, one can obtain the precise latitude and longitude of a specific venue and also its distance from the center of the neighborhood, but we are looking for advanced information such as the category of that venue and whether this venue is a popular one in its category or the average price of the services of this venue as well as ratings given to the venue.", 
            "cell_type": "markdown", 
            "metadata": {}
        }, 
        {
            "source": "## Other Dataset in combination with Foursquare location data:", 
            "cell_type": "markdown", 
            "metadata": {}
        }, 
        {
            "source": "We shall need data of tourists to know about their preferences. We can divide users by their choices of different cateories, such as\n* country- people of same country can have interest in same places.\n* Budget of tourist- the average price to visit place can help people for this\n* Interests- Different people can have different interests, some may like parks, on the other hand some may like historical places or caves or other places\n* Stay- the venue where tourist or a tourist group is stayed is also essential point to suggest more options to visit", 
            "cell_type": "markdown", 
            "metadata": {}
        }, 
        {
            "source": "Processing the neighbourhood information and tourist profile, we can make a recommendation table for them, which we can further use to recommend user where to visit", 
            "cell_type": "markdown", 
            "metadata": {}
        }
    ], 
    "metadata": {
        "kernelspec": {
            "display_name": "Python 3.5", 
            "name": "python3", 
            "language": "python"
        }, 
        "language_info": {
            "mimetype": "text/x-python", 
            "nbconvert_exporter": "python", 
            "version": "3.5.5", 
            "name": "python", 
            "file_extension": ".py", 
            "pygments_lexer": "ipython3", 
            "codemirror_mode": {
                "version": 3, 
                "name": "ipython"
            }
        }
    }, 
    "nbformat": 4
}